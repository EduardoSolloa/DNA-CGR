{
 "cells": [
  {
   "cell_type": "markdown",
   "metadata": {},
   "source": [
    "## Importar bibliotecas y cadena"
   ]
  },
  {
   "cell_type": "code",
   "execution_count": 1,
   "metadata": {},
   "outputs": [],
   "source": [
    "import re\n",
    "import time\n",
    "from PIL import Image, ImageDraw\n",
    "import numpy as np"
   ]
  },
  {
   "cell_type": "code",
   "execution_count": 3,
   "metadata": {},
   "outputs": [
    {
     "name": "stdout",
     "output_type": "stream",
     "text": [
      "102655167\n"
     ]
    }
   ],
   "source": [
    "cadena0 = open('sequence.txt','r')\n",
    "codificante = list(cadena0.read())\n",
    "print(len(codificante))"
   ]
  },
  {
   "cell_type": "markdown",
   "metadata": {},
   "source": [
    "### Encontrar donde empiezan los nucleotidos y unir las cadenas"
   ]
  },
  {
   "cell_type": "code",
   "execution_count": 4,
   "metadata": {},
   "outputs": [
    {
     "data": {
      "text/plain": [
       "['N', 'A']"
      ]
     },
     "execution_count": 4,
     "metadata": {},
     "output_type": "execute_result"
    }
   ],
   "source": [
    "codificante[1082:1084]"
   ]
  },
  {
   "cell_type": "code",
   "execution_count": 5,
   "metadata": {},
   "outputs": [],
   "source": [
    "Genoma = re.findall('[ACGT]+', \"\".join(codificante[1083:]))\n",
    "Genoma = \"\".join(Genoma)"
   ]
  },
  {
   "cell_type": "markdown",
   "metadata": {},
   "source": [
    "# Crear las Subsecuencias"
   ]
  },
  {
   "cell_type": "code",
   "execution_count": 6,
   "metadata": {},
   "outputs": [],
   "source": [
    "def crear_subsecuencias(cadena, longitud):\n",
    "    subsecuencias = []\n",
    "    for i in range(0, len(cadena)-longitud+1):\n",
    "        subsecuencias.append(cadena[i:i+longitud])\n",
    "    return subsecuencias"
   ]
  },
  {
   "cell_type": "code",
   "execution_count": 7,
   "metadata": {},
   "outputs": [],
   "source": [
    "lista_subseq = crear_subsecuencias(Genoma, 7)"
   ]
  },
  {
   "cell_type": "markdown",
   "metadata": {},
   "source": [
    "## Organizar alfabeticamente y encontrar frecuencias"
   ]
  },
  {
   "cell_type": "code",
   "execution_count": 8,
   "metadata": {},
   "outputs": [],
   "source": [
    "unicos = set(lista_subseq)\n",
    "unicos = sorted(unicos)\n",
    "lista_subseq = sorted(lista_subseq)\n",
    "dic_frecuencias_2 = {}"
   ]
  },
  {
   "cell_type": "code",
   "execution_count": 9,
   "metadata": {},
   "outputs": [],
   "source": [
    "def frecuencia_optimizada(lista_subsecuencias, set_unicos):\n",
    "    i = 1\n",
    "    contador = 1\n",
    "    for subseq in set_unicos:\n",
    "        if subseq == set_unicos[-1]:\n",
    "            dic_frecuencias_2[subseq] = lista_subsecuencias[i-1:].count(subseq)\n",
    "        else:\n",
    "            while lista_subsecuencias[i] == lista_subsecuencias[i-1]:\n",
    "                contador += 1\n",
    "                i += 1\n",
    "            else:\n",
    "                dic_frecuencias_2[subseq] = contador\n",
    "                i += 1\n",
    "                contador = 1"
   ]
  },
  {
   "cell_type": "code",
   "execution_count": 10,
   "metadata": {},
   "outputs": [
    {
     "name": "stdout",
     "output_type": "stream",
     "text": [
      "101.15144681930542\n"
     ]
    }
   ],
   "source": [
    "start = time.time()\n",
    "frecuencia_optimizada(lista_subseq, unicos)\n",
    "end = time.time()\n",
    "print(end-start)"
   ]
  },
  {
   "cell_type": "markdown",
   "metadata": {},
   "source": [
    "## Crear y escribir el vector de frecuencias en un archivo"
   ]
  },
  {
   "cell_type": "code",
   "execution_count": 11,
   "metadata": {},
   "outputs": [],
   "source": [
    "vector = list(dic_frecuencias_2.values())\n",
    "#with open('Vectores/prueba.txt', 'w') as filehandle:\n",
    "#    for num in vector:\n",
    "#        filehandle.write('%s\\n' % num)"
   ]
  },
  {
   "cell_type": "markdown",
   "metadata": {},
   "source": [
    "# Crear CGR"
   ]
  },
  {
   "cell_type": "code",
   "execution_count": 2,
   "metadata": {},
   "outputs": [
    {
     "name": "stdout",
     "output_type": "stream",
     "text": [
      "done\n",
      "done\n",
      "done\n"
     ]
    }
   ],
   "source": [
    "\n",
    "def CGR(n, frecuencias):\n",
    "    width = 1280\n",
    "    height = 1280\n",
    "    im = Image.new('HSV', (width,height), (0,0,0))\n",
    "    draw = ImageDraw.Draw(im)\n",
    "    x_divisions = [int(width*i/2**n) for i in range(2**n+1)]\n",
    "    y_divisions = [int(height*i/2**n) for i in range(2**n+1)]\n",
    "    maximo = max(frecuencias)\n",
    "    contador=0\n",
    "    for i in range(2**n):\n",
    "        for j in range(2**n):\n",
    "            hue = 120\n",
    "            m = np.mean(frecuencias)\n",
    "            if frecuencias[contador]<= m:\n",
    "                saturation = int(frecuencias[contador]*255/m)\n",
    "                value = 255\n",
    "                draw.rectangle([(x_divisions[j], y_divisions[i]),(x_divisions[j+1], y_divisions[i+1])],(hue, saturation, value))\n",
    "                contador+=1\n",
    "            else:\n",
    "                saturation = 255\n",
    "                value = 255 - int((frecuencias[contador]-int(m))*255/(maximo-int(m)))\n",
    "                draw.rectangle([(x_divisions[j], y_divisions[i]),(x_divisions[j+1], y_divisions[i+1])],(hue, saturation, value))\n",
    "                contador+=1\n",
    "                \n",
    "    im.show()\n",
    "\n",
    "print(\"done\")\n",
    "\n",
    "def incrementos(n):\n",
    "    if n==1 or n==0:\n",
    "        return 2\n",
    "    else: return 4**(n-1) + incrementos(n-1) \n",
    "\n",
    "    \n",
    "def acomodar(n, frecuencias, index=0):\n",
    "    \"\"\"\n",
    "    \n",
    "\n",
    "    Parameters\n",
    "    ----------\n",
    "    n : TYPE int\n",
    "        DESCRIPTION. longitud de las cadenas de ADN\n",
    "    frecuencias : TYPE list\n",
    "        DESCRIPTION. vector de frecuencias en orden alfabético\n",
    "    index: TYPE int\n",
    "        Description. indice en donde comienza el renglon\n",
    "\n",
    "    Returns\n",
    "    -------\n",
    "    frec : TYPE list\n",
    "        DESCRIPTION. lista con elementos del primer renglon del cuadro CGR\n",
    "\n",
    "    \"\"\"\n",
    "    frec = []\n",
    "    contador = 1\n",
    "    frec.append(frecuencias[index])\n",
    "    for i in range(1, len(frecuencias)):\n",
    "        for k in range(2, n+1):\n",
    "            if contador in list(range(2**(k-1),1000,2**k)):\n",
    "                index += incrementos(k)\n",
    "                contador += 1\n",
    "                try:\n",
    "                    frec.append(frecuencias[index])\n",
    "                except:\n",
    "                    pass\n",
    "                break\n",
    "            elif contador%2 != 0: \n",
    "                index += 2\n",
    "                try:\n",
    "                    frec.append(frecuencias[index])\n",
    "                except:\n",
    "                    pass\n",
    "                contador += 1\n",
    "                break\n",
    "    \n",
    "    return frec\n",
    "print(\"done\")\n",
    "def completar(n, frecuencias):\n",
    "    frec=[]\n",
    "    contador=1\n",
    "    index=0\n",
    "    for i in range(2**n):\n",
    "        for k in range(2, n+2):\n",
    "            if contador in list(range(2**(k-1),1000,2**k)):\n",
    "                frec = frec + acomodar(n, frecuencias, index=index)\n",
    "                index += int(incrementos(k)/2)\n",
    "                contador += 1\n",
    "                break\n",
    "            elif contador%2 != 0:\n",
    "                frec = frec + acomodar(n, frecuencias, index=index)\n",
    "                index += 1\n",
    "                contador += 1\n",
    "                break\n",
    "                \n",
    "    return frec\n",
    "print(\"done\")\n",
    "def crear_cgr(n, vector_frecuencias):\n",
    "    frecuencias_acomodadas = completar(n, vector_frecuencias)\n",
    "    CGR(n, frecuencias_acomodadas)"
   ]
  },
  {
   "cell_type": "code",
   "execution_count": null,
   "metadata": {},
   "outputs": [],
   "source": [
    "crear_cgr(7, vector)"
   ]
  },
  {
   "cell_type": "code",
   "execution_count": null,
   "metadata": {},
   "outputs": [],
   "source": []
  }
 ],
 "metadata": {
  "kernelspec": {
   "display_name": "Python 3",
   "language": "python",
   "name": "python3"
  },
  "language_info": {
   "codemirror_mode": {
    "name": "ipython",
    "version": 3
   },
   "file_extension": ".py",
   "mimetype": "text/x-python",
   "name": "python",
   "nbconvert_exporter": "python",
   "pygments_lexer": "ipython3",
   "version": "3.7.6"
  }
 },
 "nbformat": 4,
 "nbformat_minor": 4
}
